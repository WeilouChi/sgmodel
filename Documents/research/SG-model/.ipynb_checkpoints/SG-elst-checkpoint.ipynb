{
 "cells": [
  {
   "cell_type": "code",
   "execution_count": 1,
   "id": "226397b8",
   "metadata": {
    "ExecuteTime": {
     "end_time": "2021-12-10T08:10:17.279122Z",
     "start_time": "2021-12-10T08:10:17.012390Z"
    }
   },
   "outputs": [],
   "source": [
    "import preprocessData\n",
    "import calculate\n",
    "from calculate import Math\n",
    "from database import bondLengthDatabase, segmentVolumeDatabase\n",
    "import numpy as np\n",
    "import sys\n",
    "import os\n",
    "import csv\n",
    "import SGmodel\n",
    "import resultData"
   ]
  },
  {
   "cell_type": "code",
   "execution_count": 25,
   "id": "67c79013",
   "metadata": {
    "ExecuteTime": {
     "end_time": "2021-12-10T08:10:17.511449Z",
     "start_time": "2021-12-10T08:10:17.481832Z"
    }
   },
   "outputs": [
    {
     "name": "stdout",
     "output_type": "stream",
     "text": [
      "['formaldehyde-formamide_jtz.out' 'formaldehyde-acetamide_jtz.out'\n",
      " 'propanal-formamide_jtz.out' 'formaldehyde-propanamide_jtz.out'\n",
      " 'acetaldehyde-acetamide_jtz.out' 'propanal-acetamide_jtz.out'\n",
      " 'butanal-formamide_jtz.out' 'acetaldehyde-propanamide_jtz.out'\n",
      " 'propanal-propanamide_jtz.out' 'butanal-acetamide_jtz.out'\n",
      " 'butanal-propanamide_jtz.out']\n",
      "[['Amide' 'Aldehyde']\n",
      " ['Amide' 'Aldehyde']\n",
      " ['Amide' 'Aldehyde']\n",
      " ['Amide' 'Aldehyde']\n",
      " ['Amide' 'Aldehyde']\n",
      " ['Amide' 'Aldehyde']\n",
      " ['Amide' 'Aldehyde']\n",
      " ['Amide' 'Aldehyde']\n",
      " ['Amide' 'Aldehyde']\n",
      " ['Amide' 'Aldehyde']\n",
      " ['Amide' 'Aldehyde']]\n",
      "[[[1 0 1 2]\n",
      "  [1 1 1 3]]\n",
      "\n",
      " [[1 0 1 2]\n",
      "  [1 1 2 5]]\n",
      "\n",
      " [[1 0 3 6]\n",
      "  [1 1 1 3]]\n",
      "\n",
      " [[1 0 1 2]\n",
      "  [1 1 3 7]]\n",
      "\n",
      " [[1 0 2 4]\n",
      "  [1 1 2 5]]\n",
      "\n",
      " [[1 0 3 6]\n",
      "  [1 1 2 5]]\n",
      "\n",
      " [[1 0 4 8]\n",
      "  [1 1 1 3]]\n",
      "\n",
      " [[1 0 2 4]\n",
      "  [1 1 3 7]]\n",
      "\n",
      " [[1 0 3 6]\n",
      "  [1 1 3 7]]\n",
      "\n",
      " [[1 0 4 8]\n",
      "  [1 1 2 5]]\n",
      "\n",
      " [[1 0 4 8]\n",
      "  [1 1 3 7]]]\n"
     ]
    }
   ],
   "source": [
    "struct = []\n",
    "f = []\n",
    "molType = []\n",
    "allEnergy = []\n",
    "orgcom = []\n",
    "spec = []\n",
    "basises = []\n",
    "for file in preprocessData.dataName():\n",
    "    pdgod = preprocessData.getOutputData()\n",
    "    if file[-3:] == 'out':\n",
    "        sss = pdgod.dataMolecular(file)\n",
    "        sss[0], sss[1] = sss[1], sss[0]\n",
    "        temorg = pdgod.dataOrgcom(file)\n",
    "        temEnergy = pdgod.dataEnergy(file)\n",
    "        temStruct = pdgod.dataStructure(file)\n",
    "        temBasis = pdgod.dataBasis(file)\n",
    "        temType = pdgod.dataMoltype(file)\n",
    "        if len(spec) == 0:\n",
    "            spec.append(sss)\n",
    "            orgcom.append(temorg)\n",
    "            allEnergy.append(temEnergy)\n",
    "            struct.append(temStruct)\n",
    "            basises.append(temBasis)\n",
    "            f.append(file)\n",
    "            molType.append(temType)\n",
    "        else:\n",
    "            for i, spe in enumerate(spec):\n",
    "                if sss[0][2]+sss[1][2] <= spe[0][2]+spe[1][2]:\n",
    "                    spec.insert(i, sss)\n",
    "                    orgcom.insert(i, temorg)\n",
    "                    allEnergy.insert(i, temEnergy)\n",
    "                    struct.insert(i, temStruct)\n",
    "                    basises.insert(i, temBasis)\n",
    "                    f.insert(i, file)\n",
    "                    molType.insert(i, temType)\n",
    "                    break       \n",
    "                try:\n",
    "                    if sss[0][2]+sss[1][2] > spe[0][2]+spe[1][2] and sss[0][2]+sss[1][2] <= spec[i+1][0][2]+spec[i+1][1][2]:\n",
    "                        spec.insert(i+1, sss)\n",
    "                        orgcom.insert(i+1, temorg)\n",
    "                        allEnergy.insert(i+1, temEnergy)\n",
    "                        struct.insert(i+1, temStruct)\n",
    "                        basises.insert(i+1, temBasis)\n",
    "                        f.insert(i+1, file)\n",
    "                        molType.insert(i+1, temType)\n",
    "                        break\n",
    "                except:pass\n",
    "                if i == len(spec)-1:\n",
    "                    spec.append(sss)\n",
    "                    orgcom.append(temorg)\n",
    "                    allEnergy.append(temEnergy)\n",
    "                    struct.append(temStruct)\n",
    "                    basises.append(temBasis)\n",
    "                    f.append(file)\n",
    "                    molType.append(temType)\n",
    "                    break\n",
    "    else:continue\n",
    "print(np.array(f))\n",
    "print(np.array(orgcom))\n",
    "print(np.array(spec))\n"
   ]
  },
  {
   "cell_type": "code",
   "execution_count": 18,
   "id": "1f5984ec",
   "metadata": {},
   "outputs": [
    {
     "name": "stdout",
     "output_type": "stream",
     "text": [
      "ethene-formamide_jtz.out\n",
      "[['H'], ['C']]\n",
      "[[[-1.3409625714285716, -0.10814566666666658, -2.9999999999999997e-05]], [[2.0523290000000003, -0.048871, 2.000000000005701e-05]]]\n",
      "-----------------result---------------\n",
      "[[1], [-1]]\n",
      "[['H'], ['C']]\n",
      "Ele_component:  ['CH'] \n",
      " Ele_component_quantity:  [1] \n",
      " Ele_component_distance:  [[3.393809242921091]] \n",
      "\n",
      "-5.188020109569353\n",
      "-5.18802011\n",
      "propene-formamide_jtz.out\n",
      "[['H'], ['C', 'A']]\n",
      "[[[-1.7908471904761905, -0.0064678095238095, -0.04148238095238095]], [[1.9341875000000002, 0.5067715, -0.280505], [1.5405939999999998, -1.259699, 0.45668]]]\n",
      "-----------------result---------------\n",
      "[[1], [-1, 1]]\n",
      "[['H'], ['C', 'A']]\n",
      "Ele_component:  ['CH'] \n",
      " Ele_component_quantity:  [1] \n",
      " Ele_component_distance:  [[3.7678149963218615]] \n",
      "\n",
      "-4.443504626783805\n",
      "-6.04596277\n",
      "ethene-acetamide_jtz.out\n",
      "[['A', 'H'], ['C']]\n",
      "[[[-2.7100379999999995, -0.040771, -0.00027], [-0.755511761904762, -0.08365014285714285, 4.285714285714284e-05]], [[2.62706, -0.0574565, -3.500000000000725e-05]]]\n",
      "-----------------result---------------\n",
      "[[-1, 1], [-1]]\n",
      "[['A', 'H'], ['C']]\n",
      "Ele_component:  ['CH'] \n",
      " Ele_component_quantity:  [1] \n",
      " Ele_component_distance:  [[3.382673179221331]] \n",
      "\n",
      "-5.210188142457534\n",
      "-5.20067337\n",
      "propene-acetamide_jtz.out\n",
      "[['A', 'H'], ['A', 'C']]\n",
      "[[[-3.051486, 0.138663, -0.16143], [-1.138896095238095, -0.07866719047619043, 0.17768047619047625]], [[2.036297, 1.265358, -0.34259], [2.3682785, -0.5836324999999999, 0.18877500000000003]]]\n",
      "-----------------result---------------\n",
      "[[-1, 1], [1, -1]]\n",
      "[['A', 'H'], ['A', 'C']]\n",
      "Ele_component:  ['CH'] \n",
      " Ele_component_quantity:  [1] \n",
      " Ele_component_distance:  [[3.5433581097264972]] \n",
      "\n",
      "-4.8903202860846875\n",
      "-6.04527373\n",
      "ethene-propanamide_jtz.out\n",
      "[['H', 'B', 'A'], ['C']]\n",
      "[[[-0.24300385714285716, 0.1578935714285714, 0.0022095238095238092], [-2.167201, 0.505459, 0.16499], [-3.009665, -0.723418, -0.13539]], [[3.1120379999999996, -0.281499, 0.002594999999999977]]]\n",
      "-----------------result---------------\n",
      "[[1, -1, 1], [-1]]\n",
      "[['H', 'B', 'A'], ['C']]\n",
      "Ele_component:  ['CH'] \n",
      " Ele_component_quantity:  [1] \n",
      " Ele_component_distance:  [[3.3836920432567577]] \n",
      "\n",
      "-5.208159938232517\n",
      "-5.11268191\n",
      "butene-formamide_jtz.out\n",
      "[['H'], ['C', 'B', 'A']]\n",
      "[[[-1.894417142857143, -0.07833495238095238, -0.12010047619047622]], [[1.422109, 1.308998, -0.08957999999999999], [1.671473, -0.59308, -0.47279], [1.311762, -1.652862, 0.56844]]]\n",
      "-----------------result---------------\n",
      "[[1], [-1, 1, -1]]\n",
      "[['H'], ['C', 'B', 'A']]\n",
      "Ele_component:  ['CH', 'AH'] \n",
      " Ele_component_quantity:  [1, 1] \n",
      " Ele_component_distance:  [[3.5951314129644585], [3.637692690034265]] \n",
      "\n",
      "-6.105923111400245\n",
      "-6.06798775\n",
      "propene-propanamide_jtz.out\n",
      "[['H', 'B', 'A'], ['C', 'A']]\n",
      "[[[0.7039211904761904, 0.1115484761904762, -0.0613995238095238], [2.577749, 0.486736, 0.38008], [3.539595, -0.48550999999999994, -0.28319]], [[-3.0152880000000004, 0.371162, -0.35579500000000003], [-2.526406, -1.269546, 0.586]]]\n",
      "-----------------result---------------\n",
      "[[1, -1, 1], [-1, 1]]\n",
      "[['H', 'B', 'A'], ['C', 'A']]\n",
      "Ele_component:  ['CH'] \n",
      " Ele_component_quantity:  [1] \n",
      " Ele_component_distance:  [[3.7398642863971383]] \n",
      "\n",
      "-4.499144776980922\n",
      "-5.87635953\n",
      "pentene-formamide_jtz.out\n",
      "[['H'], ['C', 'B', 'B', 'A']]\n",
      "[[[-2.33411, -0.8022936666666667, 0.05870476190476193]], [[0.211502, 1.8922474999999999, 0.255695], [1.054017, 0.21343, -0.28825], [2.377999, -0.200761, 0.35611], [3.052202, -1.329727, -0.41265]]]\n",
      "-----------------result---------------\n",
      "[[1], [-1, 1, -1, 1]]\n",
      "[['H'], ['C', 'B', 'B', 'A']]\n",
      "Ele_component:  ['CH'] \n",
      " Ele_component_quantity:  [1] \n",
      " Ele_component_distance:  [[3.7120745826707435]] \n",
      "\n",
      "-4.554464419789072\n",
      "-6.10039684\n",
      "butene-acetamide_jtz.out\n",
      "[['A', 'H'], ['A', 'B', 'C']]\n",
      "[[[3.279916, 0.273, 0.05174], [1.3864064761904762, -0.16676538095238094, -0.15859095238095244]], [[-1.625027, 1.741041, 0.54134], [-2.104968, 0.701683, -0.47171], [-2.0328890000000004, -1.2059745, -0.04624]]]\n",
      "-----------------result---------------\n",
      "[[-1, 1], [-1, 1, -1]]\n",
      "[['A', 'H'], ['A', 'B', 'C']]\n",
      "Ele_component:  ['AH', 'CH'] \n",
      " Ele_component_quantity:  [1, 1] \n",
      " Ele_component_distance:  [[3.632954735036508], [3.5754943550660645]] \n",
      "\n",
      "-6.147658447226768\n",
      "-6.09407208\n",
      "pentene-acetamide_jtz.out\n",
      "[['A', 'H'], ['C', 'B', 'B', 'A']]\n",
      "[[[-3.66907, -0.973504, -0.16947], [-1.9322557619047618, -0.14428238095238097, 0.1711438095238095]], [[1.082143, 1.9483945, 0.22167], [1.552662, 0.135699, -0.33986], [2.704388, -0.590208, 0.35716], [3.147072, -1.8248050000000002, -0.41735000000000005]]]\n",
      "-----------------result---------------\n",
      "[[-1, 1], [-1, 1, -1, 1]]\n",
      "[['A', 'H'], ['C', 'B', 'B', 'A']]\n",
      "Ele_component:  ['CH'] \n",
      " Ele_component_quantity:  [1] \n",
      " Ele_component_distance:  [[3.669938598910012]] \n",
      "\n",
      "-4.6383425206124285\n",
      "-5.95525367\n",
      "butene-propanamide_jtz.out\n",
      "[['H', 'B', 'A'], ['C', 'B', 'A']]\n",
      "[[[0.9088868095238095, -0.4308339523809523, -0.0317904761904762], [2.8386289999999996, -0.371134, 0.3195], [3.519076, 0.797182, -0.37559000000000003]], [[-2.6119784999999998, -1.00828, -0.27488999999999997], [-2.411251, 0.930561, -0.43634], [-1.87842, 1.754714, 0.73579]]]\n",
      "-----------------result---------------\n",
      "[[1, -1, 1], [-1, 1, -1]]\n",
      "[['H', 'B', 'A'], ['C', 'B', 'A']]\n",
      "Ele_component:  ['CH', 'AH'] \n",
      " Ele_component_quantity:  [1, 1] \n",
      " Ele_component_distance:  [[3.576175868745197], [3.624207346441863]] \n",
      "\n",
      "-6.151184677211624\n",
      "-6.0505069\n",
      "pentene-propanamide_jtz.out\n",
      "[['H', 'B', 'A'], ['C', 'B', 'B', 'A']]\n",
      "[[[-1.0752752380952382, -0.6174208571428571, -0.05670809523809525], [-2.887819, -0.170702, 0.54697], [-3.721891, 0.486124, -0.54029]], [[2.4862405, -1.5454704999999997, -0.226415], [2.316697, 0.387521, -0.45687000000000005], [1.749897, 1.270125, 0.65597], [1.293566, 2.620983, 0.12086000000000001]]]\n",
      "-----------------result---------------\n",
      "[[1, -1, 1], [-1, 1, -1, 1]]\n",
      "[['H', 'B', 'A'], ['C', 'B', 'B', 'A']]\n",
      "Ele_component:  ['CH', 'BH'] \n",
      " Ele_component_quantity:  [1, 1] \n",
      " Ele_component_distance:  [[3.684354885978169], [3.471647678718769]] \n",
      "\n",
      "-5.414603074854567\n",
      "-6.18687101\n"
     ]
    }
   ],
   "source": [
    "for i, fn in enumerate(f):\n",
    "    print(fn)\n",
    "    s3 = calculate.Sort.fragmentSort(struct[i])\n",
    "    frag2d, fragStruct3d = [], []\n",
    "    for s2 in s3:   \n",
    "        frag, fragStruct = calculate.Convert.fragmentConvert(s2)\n",
    "        frag2d.append(frag)\n",
    "        fragStruct3d.append(fragStruct)\n",
    "    frag2d, fragStruct3d = calculate.Sort.dicectionSort(frag2d, fragStruct3d)\n",
    "    print(frag2d)\n",
    "    print(fragStruct3d)\n",
    "    model_ele = SGmodel.electrostatic(frag2d, fragStruct3d, basises[i])\n",
    "    print('-----------------result---------------')\n",
    "    predEle = model_ele.run(Rphi=3, Rrange=1)\n",
    "    print(predEle)\n",
    "    print(allEnergy[i][0])\n",
    "    if molType[i] == 'Dimer':\n",
    "        name = fn[:-8] + '-dimer'\n",
    "    else:\n",
    "        name = fn[:-8]\n",
    "    resultData.saveResult(name, 'elst', basises[i], refEnergy=allEnergy[i][0], predEnergy=predEle)"
   ]
  },
  {
   "cell_type": "code",
   "execution_count": 26,
   "id": "e4f969af",
   "metadata": {},
   "outputs": [
    {
     "name": "stdout",
     "output_type": "stream",
     "text": [
      "formaldehyde-formamide_jtz.out\n",
      "[[['C', '-1.708901', '-0.116662', '0.00009'], ['O', '-1.152080', '-1.206958', '-0.00022'], ['N', '-1.074617', '1.074516', '-0.00003'], ['H', '-1.606254', '1.925365', '0.00004'], ['H', '-0.059723', '1.106997', '-0.00023'], ['H', '-2.804295', '-0.022634', '0.00009']], [['C', '2.037143', '-0.546216', '0.00010'], ['O', '1.876137', '0.663173', '0.00008'], ['H', '1.180940', '-1.231542', '-0.00006'], ['H', '3.049743', '-0.972249', '0.00028']]]\n",
      "jtz\n"
     ]
    },
    {
     "data": {
      "text/plain": [
       "([['H'], ['F']],\n",
       " [[[-1.2853507142857143, -0.13495352380952383, -6.809523809523811e-05]],\n",
       "  [[1.9451395714285713, 0.14486342857142856, 8.857142857142859e-05]]])"
      ]
     },
     "execution_count": 26,
     "metadata": {},
     "output_type": "execute_result"
    }
   ],
   "source": [
    "inddd=0\n",
    "print(f[inddd])\n",
    "struct3D = struct[inddd]\n",
    "print(struct3D)\n",
    "basis = basises[inddd]\n",
    "moltype = molType[inddd]\n",
    "fileName = f[inddd]\n",
    "print(basis)\n",
    "referenceEnergy = allEnergy[inddd]\n",
    "s3 = calculate.Sort.fragmentSort(struct3D)\n",
    "# print(s3[0])\n",
    "frag2d, fragStruct3d = [], []\n",
    "for s2 in s3:   \n",
    "    frag, fragStruct = calculate.Convert.fragmentConvert(s2)\n",
    "    frag2d.append(frag)\n",
    "    fragStruct3d.append(fragStruct)\n",
    "\n",
    "frag2d, fragStruct3d = calculate.Sort.dicectionSort(frag2d, fragStruct3d)\n",
    "frag2d, fragStruct3d"
   ]
  },
  {
   "cell_type": "code",
   "execution_count": 27,
   "id": "2222f433",
   "metadata": {
    "scrolled": true
   },
   "outputs": [
    {
     "name": "stdout",
     "output_type": "stream",
     "text": [
      "[[1], [-1]]\n",
      "[['H'], ['F']]\n",
      "Ele_component:  ['FH'] \n",
      " Ele_component_quantity:  [1] \n",
      " Ele_component_distance:  [[3.2425861650044974]] \n",
      "\n",
      "Trained\n"
     ]
    },
    {
     "data": {
      "text/plain": [
       "array([['AA', '-0.282978683', '4', '1'],\n",
       "       ['AB', '-0.219233196', '4', '1'],\n",
       "       ['BB', '-0.205945442', '4', '1'],\n",
       "       ['AC', '-0.759711085', '4', '1'],\n",
       "       ['BC', '-0.940858982', '4', '1'],\n",
       "       ['AD', '-1.324955086', '4', '1'],\n",
       "       ['BD', '-1.267830421', '4', '1'],\n",
       "       ['EE', '-11.33174041', '3', '1'],\n",
       "       ['AE', '-0.685204702', '4', '1'],\n",
       "       ['BE', '-0.945655637', '4', '1'],\n",
       "       ['CE', '-3.614653953', '4', '1'],\n",
       "       ['EG', '-22.97093267', '3', '1'],\n",
       "       ['EH', '-19.63698494', '3', '1'],\n",
       "       ['FF', '-6.496555647', '3', '1'],\n",
       "       ['AF', '-0.580717398', '4', '1'],\n",
       "       ['BF', '-0.566443958', '4', '1'],\n",
       "       ['CF', '-2.080996745', '4', '1'],\n",
       "       ['FG', '-18.30436925', '3', '1'],\n",
       "       ['FH', '-13.86696249', '3', '1'],\n",
       "       ['GG', '-32.35163981', '3', '1'],\n",
       "       ['AG', '-1.741846644', '3', '1'],\n",
       "       ['BG', '-2.392271429', '3', '1'],\n",
       "       ['CG', '-7.799224978', '3', '1'],\n",
       "       ['HH', '-27.32402365', '3', '1'],\n",
       "       ['AH', '-1.674632434', '3', '1'],\n",
       "       ['BH', '-0.95511812', '3', '1'],\n",
       "       ['CH', '-5.971957458', '3', '1'],\n",
       "       ['GH', '-30.53554858', '3', '1']], dtype='<U12')"
      ]
     },
     "execution_count": 27,
     "metadata": {},
     "output_type": "execute_result"
    }
   ],
   "source": [
    "model_ele = SGmodel.electrostatic(frag2d, fragStruct3d, basis)\n",
    "model_ele.run(Rphi=3, Rrange=1, train_mode=True, referenceEle=referenceEnergy[0])"
   ]
  },
  {
   "cell_type": "code",
   "execution_count": 22,
   "id": "ac381df1",
   "metadata": {},
   "outputs": [
    {
     "name": "stdout",
     "output_type": "stream",
     "text": [
      "[[1], [-1]]\n",
      "[['H'], ['E']]\n",
      "Ele_component:  ['EH'] \n",
      " Ele_component_quantity:  [1] \n",
      " Ele_component_distance:  [[3.255342197227765]] \n",
      "\n",
      "-17.96560131283062\n",
      "-17.96560131\n"
     ]
    }
   ],
   "source": [
    "model_ele = SGmodel.electrostatic(frag2d, fragStruct3d, basis)\n",
    "\n",
    "predEle = model_ele.run()\n",
    "print(predEle)\n",
    "print(referenceEnergy[0])"
   ]
  },
  {
   "cell_type": "code",
   "execution_count": 51,
   "id": "2c337317",
   "metadata": {
    "ExecuteTime": {
     "end_time": "2021-12-10T08:10:18.845252Z",
     "start_time": "2021-12-10T08:10:18.830647Z"
    }
   },
   "outputs": [],
   "source": []
  },
  {
   "cell_type": "code",
   "execution_count": null,
   "id": "4dee35cf",
   "metadata": {},
   "outputs": [],
   "source": []
  },
  {
   "cell_type": "code",
   "execution_count": 10,
   "id": "5b66a85d",
   "metadata": {
    "ExecuteTime": {
     "end_time": "2021-12-10T08:10:19.443755Z",
     "start_time": "2021-12-10T08:10:19.432558Z"
    }
   },
   "outputs": [],
   "source": []
  },
  {
   "cell_type": "code",
   "execution_count": 13,
   "id": "03acb423",
   "metadata": {
    "ExecuteTime": {
     "end_time": "2021-12-10T08:32:22.969584Z",
     "start_time": "2021-12-10T08:32:22.956301Z"
    }
   },
   "outputs": [],
   "source": []
  },
  {
   "cell_type": "code",
   "execution_count": 14,
   "id": "1e38c8b4",
   "metadata": {
    "ExecuteTime": {
     "end_time": "2021-12-10T08:32:23.688210Z",
     "start_time": "2021-12-10T08:32:23.670578Z"
    }
   },
   "outputs": [
    {
     "name": "stdout",
     "output_type": "stream",
     "text": [
      "['E', 'B', 'B', 'A'] \n",
      " ['E', 'B', 'A']\n"
     ]
    },
    {
     "data": {
      "text/plain": [
       "2.059645041205768"
      ]
     },
     "execution_count": 14,
     "metadata": {},
     "output_type": "execute_result"
    }
   ],
   "source": [
    "disp = dispersion(frag2d, fragStruct3d)\n",
    "disp.energyDisp(5, False)"
   ]
  },
  {
   "cell_type": "code",
   "execution_count": 51,
   "id": "489b8d46",
   "metadata": {},
   "outputs": [],
   "source": []
  },
  {
   "cell_type": "code",
   "execution_count": null,
   "id": "723aa143",
   "metadata": {},
   "outputs": [],
   "source": []
  },
  {
   "cell_type": "code",
   "execution_count": null,
   "id": "98508d0e",
   "metadata": {},
   "outputs": [],
   "source": []
  }
 ],
 "metadata": {
  "kernelspec": {
   "display_name": "Python 3",
   "language": "python",
   "name": "python3"
  },
  "language_info": {
   "codemirror_mode": {
    "name": "ipython",
    "version": 3
   },
   "file_extension": ".py",
   "mimetype": "text/x-python",
   "name": "python",
   "nbconvert_exporter": "python",
   "pygments_lexer": "ipython3",
   "version": "3.8.8"
  },
  "varInspector": {
   "cols": {
    "lenName": 16,
    "lenType": 16,
    "lenVar": 40
   },
   "kernels_config": {
    "python": {
     "delete_cmd_postfix": "",
     "delete_cmd_prefix": "del ",
     "library": "var_list.py",
     "varRefreshCmd": "print(var_dic_list())"
    },
    "r": {
     "delete_cmd_postfix": ") ",
     "delete_cmd_prefix": "rm(",
     "library": "var_list.r",
     "varRefreshCmd": "cat(var_dic_list()) "
    }
   },
   "types_to_exclude": [
    "module",
    "function",
    "builtin_function_or_method",
    "instance",
    "_Feature"
   ],
   "window_display": false
  }
 },
 "nbformat": 4,
 "nbformat_minor": 5
}
