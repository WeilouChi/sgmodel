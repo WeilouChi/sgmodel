{
 "cells": [
  {
   "cell_type": "code",
   "execution_count": 1,
   "id": "ba3ed8c7",
   "metadata": {},
   "outputs": [],
   "source": [
    "import preprocessData\n",
    "import calculate\n",
    "from calculate import Math\n",
    "from database import bondLengthDatabase, segmentVolumeDatabase\n",
    "import numpy as np\n",
    "import sys\n",
    "import os\n",
    "import csv\n",
    "import SGmodel\n",
    "import resultData"
   ]
  },
  {
   "cell_type": "code",
   "execution_count": 2,
   "id": "8b177aba",
   "metadata": {},
   "outputs": [
    {
     "name": "stdout",
     "output_type": "stream",
     "text": [
      "['ethane_jtz.out' 'ethane-propane_jtz.out' 'propane_jtz.out'\n",
      " 'ethane-butane_jtz.out' 'propane-butane_jtz.out' 'ethane-pentane_jtz.out'\n",
      " 'propane-pentane_jtz.out' 'ethane-hexane_jtz.out' 'butane_jtz.out'\n",
      " 'propane-hexane_jtz.out' 'pentane_jtz.out' 'hexane_jtz.out']\n",
      "[['Alkane' 'Alkane']\n",
      " ['Alkane' 'Alkane']\n",
      " ['Alkane' 'Alkane']\n",
      " ['Alkane' 'Alkane']\n",
      " ['Alkane' 'Alkane']\n",
      " ['Alkane' 'Alkane']\n",
      " ['Alkane' 'Alkane']\n",
      " ['Alkane' 'Alkane']\n",
      " ['Alkane' 'Alkane']\n",
      " ['Alkane' 'Alkane']\n",
      " ['Alkane' 'Alkane']\n",
      " ['Alkane' 'Alkane']]\n",
      "[[[ 0  0  2  6]\n",
      "  [ 0  0  2  6]]\n",
      "\n",
      " [[ 0  0  2  6]\n",
      "  [ 0  0  3  8]]\n",
      "\n",
      " [[ 0  0  3  8]\n",
      "  [ 0  0  3  8]]\n",
      "\n",
      " [[ 0  0  2  6]\n",
      "  [ 0  0  4 10]]\n",
      "\n",
      " [[ 0  0  3  8]\n",
      "  [ 0  0  4 10]]\n",
      "\n",
      " [[ 0  0  2  6]\n",
      "  [ 0  0  5 12]]\n",
      "\n",
      " [[ 0  0  3  8]\n",
      "  [ 0  0  5 12]]\n",
      "\n",
      " [[ 0  0  2  6]\n",
      "  [ 0  0  6 14]]\n",
      "\n",
      " [[ 0  0  4 10]\n",
      "  [ 0  0  4 10]]\n",
      "\n",
      " [[ 0  0  3  8]\n",
      "  [ 0  0  6 14]]\n",
      "\n",
      " [[ 0  0  5 12]\n",
      "  [ 0  0  5 12]]\n",
      "\n",
      " [[ 0  0  6 14]\n",
      "  [ 0  0  6 14]]]\n"
     ]
    }
   ],
   "source": [
    "struct = []\n",
    "f = []\n",
    "molType = []\n",
    "allEnergy = []\n",
    "orgcom = []\n",
    "spec = []\n",
    "basises = []\n",
    "for file in preprocessData.dataName():\n",
    "    pdgod = preprocessData.getOutputData()\n",
    "    if file[-3:] == 'out':\n",
    "        sss = pdgod.dataMolecular(file)\n",
    "        sss[0], sss[1] = sss[1], sss[0]\n",
    "        temorg = pdgod.dataOrgcom(file)\n",
    "        temEnergy = pdgod.dataEnergy(file)\n",
    "        temStruct = pdgod.dataStructure(file)\n",
    "        temBasis = pdgod.dataBasis(file)\n",
    "        temType = pdgod.dataMoltype(file)\n",
    "        if len(spec) == 0:\n",
    "            spec.append(sss)\n",
    "            orgcom.append(temorg)\n",
    "            allEnergy.append(temEnergy)\n",
    "            struct.append(temStruct)\n",
    "            basises.append(temBasis)\n",
    "            f.append(file)\n",
    "            molType.append(temType)\n",
    "        else:\n",
    "            for i, spe in enumerate(spec):\n",
    "                if sss[0][2]+sss[1][2] <= spe[0][2]+spe[1][2]:\n",
    "                    spec.insert(i, sss)\n",
    "                    orgcom.insert(i, temorg)\n",
    "                    allEnergy.insert(i, temEnergy)\n",
    "                    struct.insert(i, temStruct)\n",
    "                    basises.insert(i, temBasis)\n",
    "                    f.insert(i, file)\n",
    "                    molType.insert(i, temType)\n",
    "                    break       \n",
    "                try:\n",
    "                    if sss[0][2]+sss[1][2] > spe[0][2]+spe[1][2] and sss[0][2]+sss[1][2] <= spec[i+1][0][2]+spec[i+1][1][2]:\n",
    "                        spec.insert(i+1, sss)\n",
    "                        orgcom.insert(i+1, temorg)\n",
    "                        allEnergy.insert(i+1, temEnergy)\n",
    "                        struct.insert(i+1, temStruct)\n",
    "                        basises.insert(i+1, temBasis)\n",
    "                        f.insert(i+1, file)\n",
    "                        molType.insert(i+1, temType)\n",
    "                        break\n",
    "                except:pass\n",
    "                if i == len(spec)-1:\n",
    "                    spec.append(sss)\n",
    "                    orgcom.append(temorg)\n",
    "                    allEnergy.append(temEnergy)\n",
    "                    struct.append(temStruct)\n",
    "                    basises.append(temBasis)\n",
    "                    f.append(file)\n",
    "                    molType.append(temType)\n",
    "                    break\n",
    "    else:continue\n",
    "print(np.array(f))\n",
    "print(np.array(orgcom))\n",
    "print(np.array(spec))\n"
   ]
  },
  {
   "cell_type": "code",
   "execution_count": 7,
   "id": "d44638cf",
   "metadata": {},
   "outputs": [
    {
     "name": "stdout",
     "output_type": "stream",
     "text": [
      "ethane_jtz.out\n",
      "[['A', 'A'], ['A', 'A']] [[[1.848254, -0.684428, 0.33532499999999993], [1.8483030000000003, 0.6844259999999999, -0.33481]], [[-1.8482589999999999, -0.6844259999999999, -0.335326], [-1.848298, 0.684428, 0.33481]]]\n",
      "[[1, -1], [1, -1]]\n",
      "[['A', 'A'], ['A', 'A']]\n",
      "Exc_component:  ['AA'] \n",
      " Exc_component_quantity:  [2] \n",
      " Exc_component_distance:  [[3.756857878995957, 3.7567605589929474]] \n",
      "\n",
      "['AA', 0.9173478971118906, 4, 1]\n",
      "[['AA' '0.9173478971118906' '4' '1']]\n",
      "propane_jtz.out\n",
      "[['A', 'B', 'A'], ['A', 'B', 'A']] [[[-2.096104, -1.233627, 0.311074], [-1.785126, -0.050669, -0.597489], [-1.886081, 1.278566, 0.140191]], [[2.095805, -1.233776, -0.311078], [1.7852690000000002, -0.050735, 0.597529], [1.8862560000000002, 1.278455, -0.140224]]]\n",
      "[[1, -1, 1], [1, -1, 1]]\n",
      "[['A', 'B', 'A'], ['A', 'B', 'A']]\n",
      "Exc_component:  ['AA', 'BB'] \n",
      " Exc_component_quantity:  [4, 1] \n",
      " Exc_component_distance:  [[4.237826588899787, 4.730054653926104, 4.729790920571543, 3.7827449062968816], [3.7650748306912845]] \n",
      "\n",
      "['BB', -0.30574945631659906, 4, 1]\n",
      "[['AA' '0.9173478971118906' '4' '1']\n",
      " ['BB' '-0.30574945631659906' '4' '1.0']]\n",
      "butane_jtz.out\n",
      "[['A', 'B', 'B', 'A'], ['A', 'B', 'B', 'A']] [[[1.8997400000000002, 1.911812, -0.351299], [1.831817, 0.615503, 0.445749], [1.996259, -0.621552, -0.428221], [1.917962, -1.9147, 0.373518]], [[-1.892578, 1.916151, 0.35124400000000006], [-1.8289599999999997, 0.619557, -0.445698], [-1.999072, -0.616802, 0.4281650000000001], [-1.9251820000000002, -1.9102749999999997, -0.373465]]]\n",
      "[[1, -1, 1, -1], [1, -1, 1, -1]]\n",
      "[['A', 'B', 'B', 'A'], ['A', 'B', 'B', 'A']]\n",
      "Exc_component:  ['AA', 'AB', 'BB'] \n",
      " Exc_component_quantity:  [2, 4, 2] \n",
      " Exc_component_distance:  [[3.856846031006942, 3.9150681970624728], [4.7119197679540346, 4.600620346114315, 4.708561926427537, 4.597064049019656], [3.767755622708829, 4.086084842860829]] \n",
      "\n",
      "['AB', 0.9091344721482296, 4, 1]\n",
      "[['AA' '0.9173478971118906' '4' '1']\n",
      " ['BB' '-0.30574945631659906' '4' '1.0']\n",
      " ['AB' '0.9091344721482296' '4' '1.0']]\n"
     ]
    }
   ],
   "source": [
    "trainDataName = ['ethane_jtz.out', 'propane_jtz.out', 'butane_jtz.out']\n",
    "for tdn in trainDataName:\n",
    "    train_index = f.index(tdn)\n",
    "    inddd = train_index\n",
    "    print(f[inddd])\n",
    "    struct3D = struct[inddd]\n",
    "#     print(struct3D)\n",
    "    basis = basises[inddd]\n",
    "    moltype = molType[inddd]\n",
    "    fileName = f[inddd]\n",
    "#     print(basis)\n",
    "    referenceEnergy = allEnergy[inddd]\n",
    "    s3 = calculate.Sort.fragmentSort(struct3D)\n",
    "    # print(s3[0])\n",
    "    frag2d, fragStruct3d = [], []\n",
    "    for s2 in s3:   \n",
    "        frag, fragStruct = calculate.Convert.fragmentConvert(s2)\n",
    "        frag2d.append(frag)\n",
    "        fragStruct3d.append(fragStruct)\n",
    "\n",
    "    frag2d, fragStruct3d = calculate.Sort.dicectionSort(frag2d, fragStruct3d)\n",
    "    print(frag2d, fragStruct3d)\n",
    "    \n",
    "    model_exc = SGmodel.exchange(frag2d, fragStruct3d, basis)\n",
    "    print(model_exc.run(Rphi=4, Rrange=1, beta=3.5, train_mode=True, referenceExc=referenceEnergy[1]))"
   ]
  },
  {
   "cell_type": "code",
   "execution_count": 3,
   "id": "6a3f1d25",
   "metadata": {},
   "outputs": [
    {
     "name": "stdout",
     "output_type": "stream",
     "text": [
      "ethane_jtz.out\n",
      "[['A', 'A'], ['A', 'A']]\n",
      "[[[1.848254, -0.684428, 0.33532499999999993], [1.8483030000000003, 0.6844259999999999, -0.33481]], [[-1.8482589999999999, -0.6844259999999999, -0.335326], [-1.848298, 0.684428, 0.33481]]]\n",
      "-----------------result---------------\n",
      "[[1, -1], [1, -1]]\n",
      "[['A', 'A'], ['A', 'A']]\n",
      "Exc_component:  ['AA'] \n",
      " Exc_component_quantity:  [2] \n",
      " Exc_component_distance:  [[3.756857878995957, 3.7567605589929474]] \n",
      "\n",
      "3.223210485342687\n",
      "1.94624107\n",
      "ethane-propane_jtz.out\n",
      "[['A', 'B', 'A'], ['A', 'A']]\n",
      "[[[2.021491, -1.093909, 0.04049], [1.471158, 0.223588, 0.57271], [1.193756, 1.216441, -0.54908]], [[-2.115079, -0.7353460000000002, -0.475774], [-2.408846, 0.415011, 0.479865]]]\n",
      "-----------------result---------------\n",
      "[[1, -1, 1], [1, -1]]\n",
      "[['A', 'B', 'A'], ['A', 'A']]\n",
      "Exc_component:  ['AA', 'AB'] \n",
      " Exc_component_quantity:  [2, 1] \n",
      " Exc_component_distance:  [[4.184053932200803, 3.842295579498017], [3.885832471809612]] \n",
      "\n"
     ]
    },
    {
     "ename": "ValueError",
     "evalue": "'AB' is not in list",
     "output_type": "error",
     "traceback": [
      "\u001b[1;31m---------------------------------------------------------------------------\u001b[0m",
      "\u001b[1;31mValueError\u001b[0m                                Traceback (most recent call last)",
      "\u001b[1;32m<ipython-input-3-15865cc22590>\u001b[0m in \u001b[0;36m<module>\u001b[1;34m\u001b[0m\n\u001b[0;32m     12\u001b[0m     \u001b[0mmodel_exc\u001b[0m \u001b[1;33m=\u001b[0m \u001b[0mSGmodel\u001b[0m\u001b[1;33m.\u001b[0m\u001b[0mexchange\u001b[0m\u001b[1;33m(\u001b[0m\u001b[0mfrag2d\u001b[0m\u001b[1;33m,\u001b[0m \u001b[0mfragStruct3d\u001b[0m\u001b[1;33m,\u001b[0m \u001b[0mbasises\u001b[0m\u001b[1;33m[\u001b[0m\u001b[0mi\u001b[0m\u001b[1;33m]\u001b[0m\u001b[1;33m)\u001b[0m\u001b[1;33m\u001b[0m\u001b[1;33m\u001b[0m\u001b[0m\n\u001b[0;32m     13\u001b[0m     \u001b[0mprint\u001b[0m\u001b[1;33m(\u001b[0m\u001b[1;34m'-----------------result---------------'\u001b[0m\u001b[1;33m)\u001b[0m\u001b[1;33m\u001b[0m\u001b[1;33m\u001b[0m\u001b[0m\n\u001b[1;32m---> 14\u001b[1;33m     \u001b[0mpredExc\u001b[0m \u001b[1;33m=\u001b[0m \u001b[0mmodel_exc\u001b[0m\u001b[1;33m.\u001b[0m\u001b[0mrun\u001b[0m\u001b[1;33m(\u001b[0m\u001b[0mRphi\u001b[0m\u001b[1;33m=\u001b[0m\u001b[1;36m4\u001b[0m\u001b[1;33m,\u001b[0m \u001b[0mRrange\u001b[0m\u001b[1;33m=\u001b[0m\u001b[1;36m1\u001b[0m\u001b[1;33m)\u001b[0m\u001b[1;33m\u001b[0m\u001b[1;33m\u001b[0m\u001b[0m\n\u001b[0m\u001b[0;32m     15\u001b[0m     \u001b[0mprint\u001b[0m\u001b[1;33m(\u001b[0m\u001b[0mpredExc\u001b[0m\u001b[1;33m)\u001b[0m\u001b[1;33m\u001b[0m\u001b[1;33m\u001b[0m\u001b[0m\n\u001b[0;32m     16\u001b[0m     \u001b[0mprint\u001b[0m\u001b[1;33m(\u001b[0m\u001b[0mallEnergy\u001b[0m\u001b[1;33m[\u001b[0m\u001b[0mi\u001b[0m\u001b[1;33m]\u001b[0m\u001b[1;33m[\u001b[0m\u001b[1;36m1\u001b[0m\u001b[1;33m]\u001b[0m\u001b[1;33m)\u001b[0m\u001b[1;33m\u001b[0m\u001b[1;33m\u001b[0m\u001b[0m\n",
      "\u001b[1;32m~\\Documents\\research\\SG-model\\SGmodel.py\u001b[0m in \u001b[0;36mrun\u001b[1;34m(self, Rphi, Rrange, beta, train_mode, referenceExc)\u001b[0m\n\u001b[0;32m    282\u001b[0m             \u001b[1;32mreturn\u001b[0m \u001b[1;34m'If train_mode is used, referenceExc must be an integer.'\u001b[0m\u001b[1;33m\u001b[0m\u001b[1;33m\u001b[0m\u001b[0m\n\u001b[0;32m    283\u001b[0m         \u001b[0mself\u001b[0m\u001b[1;33m.\u001b[0m\u001b[0msignExc\u001b[0m\u001b[1;33m(\u001b[0m\u001b[1;33m)\u001b[0m\u001b[1;33m\u001b[0m\u001b[1;33m\u001b[0m\u001b[0m\n\u001b[1;32m--> 284\u001b[1;33m         \u001b[1;32mreturn\u001b[0m \u001b[0mself\u001b[0m\u001b[1;33m.\u001b[0m\u001b[0menergyExc\u001b[0m\u001b[1;33m(\u001b[0m\u001b[0mRphi\u001b[0m\u001b[1;33m,\u001b[0m \u001b[0mRrange\u001b[0m\u001b[1;33m,\u001b[0m \u001b[0mbeta\u001b[0m\u001b[1;33m,\u001b[0m \u001b[0mtrain_mode\u001b[0m\u001b[1;33m,\u001b[0m \u001b[0mreferenceExc\u001b[0m\u001b[1;33m)\u001b[0m\u001b[1;33m\u001b[0m\u001b[1;33m\u001b[0m\u001b[0m\n\u001b[0m\u001b[0;32m    285\u001b[0m \u001b[1;33m\u001b[0m\u001b[0m\n\u001b[0;32m    286\u001b[0m \u001b[1;33m\u001b[0m\u001b[0m\n",
      "\u001b[1;32m~\\Documents\\research\\SG-model\\SGmodel.py\u001b[0m in \u001b[0;36menergyExc\u001b[1;34m(self, Rphi, Rrange, beta, train_mode, referenceExc)\u001b[0m\n\u001b[0;32m    231\u001b[0m         \u001b[0mtotal\u001b[0m \u001b[1;33m=\u001b[0m \u001b[1;36m0\u001b[0m\u001b[1;33m\u001b[0m\u001b[1;33m\u001b[0m\u001b[0m\n\u001b[0;32m    232\u001b[0m         \u001b[1;32mfor\u001b[0m \u001b[0mi\u001b[0m\u001b[1;33m,\u001b[0m \u001b[0mcomp\u001b[0m \u001b[1;32min\u001b[0m \u001b[0menumerate\u001b[0m\u001b[1;33m(\u001b[0m\u001b[0mcomponent\u001b[0m\u001b[1;33m)\u001b[0m\u001b[1;33m:\u001b[0m\u001b[1;33m\u001b[0m\u001b[1;33m\u001b[0m\u001b[0m\n\u001b[1;32m--> 233\u001b[1;33m             \u001b[0mind\u001b[0m \u001b[1;33m=\u001b[0m \u001b[0mself\u001b[0m\u001b[1;33m.\u001b[0m\u001b[0mparameterExc\u001b[0m\u001b[1;33m[\u001b[0m\u001b[1;33m:\u001b[0m\u001b[1;33m,\u001b[0m\u001b[1;36m0\u001b[0m\u001b[1;33m]\u001b[0m\u001b[1;33m.\u001b[0m\u001b[0mtolist\u001b[0m\u001b[1;33m(\u001b[0m\u001b[1;33m)\u001b[0m\u001b[1;33m.\u001b[0m\u001b[0mindex\u001b[0m\u001b[1;33m(\u001b[0m\u001b[0mcomp\u001b[0m\u001b[1;33m)\u001b[0m\u001b[1;33m\u001b[0m\u001b[1;33m\u001b[0m\u001b[0m\n\u001b[0m\u001b[0;32m    234\u001b[0m             \u001b[0menergy\u001b[0m \u001b[1;33m=\u001b[0m \u001b[0mfloat\u001b[0m\u001b[1;33m(\u001b[0m\u001b[0mself\u001b[0m\u001b[1;33m.\u001b[0m\u001b[0mparameterExc\u001b[0m\u001b[1;33m[\u001b[0m\u001b[1;33m:\u001b[0m\u001b[1;33m,\u001b[0m\u001b[1;36m1\u001b[0m\u001b[1;33m]\u001b[0m\u001b[1;33m[\u001b[0m\u001b[0mind\u001b[0m\u001b[1;33m]\u001b[0m\u001b[1;33m)\u001b[0m\u001b[1;33m\u001b[0m\u001b[1;33m\u001b[0m\u001b[0m\n\u001b[0;32m    235\u001b[0m             \u001b[0mdistance\u001b[0m \u001b[1;33m=\u001b[0m \u001b[0mfloat\u001b[0m\u001b[1;33m(\u001b[0m\u001b[0mself\u001b[0m\u001b[1;33m.\u001b[0m\u001b[0mparameterExc\u001b[0m\u001b[1;33m[\u001b[0m\u001b[1;33m:\u001b[0m\u001b[1;33m,\u001b[0m\u001b[1;36m2\u001b[0m\u001b[1;33m]\u001b[0m\u001b[1;33m[\u001b[0m\u001b[0mind\u001b[0m\u001b[1;33m]\u001b[0m\u001b[1;33m)\u001b[0m\u001b[1;33m\u001b[0m\u001b[1;33m\u001b[0m\u001b[0m\n",
      "\u001b[1;31mValueError\u001b[0m: 'AB' is not in list"
     ]
    }
   ],
   "source": [
    "for i, fn in enumerate(f):\n",
    "    print(fn)\n",
    "    s3 = calculate.Sort.fragmentSort(struct[i])\n",
    "    frag2d, fragStruct3d = [], []\n",
    "    for s2 in s3:   \n",
    "        frag, fragStruct = calculate.Convert.fragmentConvert(s2)\n",
    "        frag2d.append(frag)\n",
    "        fragStruct3d.append(fragStruct)\n",
    "    frag2d, fragStruct3d = calculate.Sort.dicectionSort(frag2d, fragStruct3d)\n",
    "    print(frag2d)\n",
    "    print(fragStruct3d)\n",
    "    model_exc = SGmodel.exchange(frag2d, fragStruct3d, basises[i])\n",
    "    print('-----------------result---------------')\n",
    "    predExc = model_exc.run(Rphi=4, Rrange=1)\n",
    "    print(predExc)\n",
    "    print(allEnergy[i][1])\n",
    "    if molType[i] == 'Dimer':\n",
    "        name = fn[:-8] + '-dimer'\n",
    "    else:\n",
    "        name = fn[:-8]\n",
    "    resultData.saveResult(name, 'exc', basises[i], refEnergy=allEnergy[i][1], predEnergy=predExc)"
   ]
  },
  {
   "cell_type": "code",
   "execution_count": 3,
   "id": "52f82361",
   "metadata": {},
   "outputs": [
    {
     "name": "stdout",
     "output_type": "stream",
     "text": [
      "propane_jtz.out\n",
      "[[['C', '-2.09610400', '-1.23362700', '0.31107400'], ['C', '-1.78512600', '-0.05066900', '-0.59748900'], ['C', '-1.88608100', '1.27856600', '0.14019100'], ['H', '-1.40643000', '-1.26494600', '1.15604000'], ['H', '-3.10729100', '-1.15607300', '0.71321200'], ['H', '-2.01741400', '-2.18170100', '-0.2204930'], ['H', '-2.47239700', '-0.05105700', '-1.4460880'], ['H', '-0.78160500', '-0.16348100', '-1.0128710'], ['H', '-1.65970000', '2.12089200', '-0.5132850'], ['H', '-2.89132800', '1.42249200', '0.5390600'], ['H', '-1.18926900', '1.30968600', '0.9792730']], [['C', '2.09580500', '-1.23377600', '-0.31107800'], ['C', '1.78526900', '-0.05073500', '0.5975290'], ['C', '1.88625600', '1.27845500', '-0.1402240'], ['H', '1.40589100', '-1.26504600', '-1.1558560'], ['H', '3.10689100', '-1.15638500', '-0.7135000'], ['H', '2.01710900', '-2.18181300', '0.2205530'], ['H', '2.47275700', '-0.05120400', '1.4459520'], ['H', '0.78183200', '-0.16335900', '1.0131740'], ['H', '1.66024100', '2.12083900', '0.51330400'], ['H', '2.89140800', '1.42218400', '-0.53940400'], ['H', '1.18919200', '1.30968000', '-0.97908300']]]\n",
      "jtz\n"
     ]
    },
    {
     "data": {
      "text/plain": [
       "([['A', 'B', 'A'], ['A', 'B', 'A']],\n",
       " [[[-2.096104, -1.233627, 0.311074],\n",
       "   [-1.785126, -0.050669, -0.597489],\n",
       "   [-1.886081, 1.278566, 0.140191]],\n",
       "  [[2.095805, -1.233776, -0.311078],\n",
       "   [1.7852690000000002, -0.050735, 0.597529],\n",
       "   [1.8862560000000002, 1.278455, -0.140224]]])"
      ]
     },
     "execution_count": 3,
     "metadata": {},
     "output_type": "execute_result"
    }
   ],
   "source": [
    "inddd=2\n",
    "print(f[inddd])\n",
    "struct3D = struct[inddd]\n",
    "print(struct3D)\n",
    "basis = basises[inddd]\n",
    "moltype = molType[inddd]\n",
    "fileName = f[inddd]\n",
    "print(basis)\n",
    "referenceEnergy = allEnergy[inddd]\n",
    "s3 = calculate.Sort.fragmentSort(struct3D)\n",
    "# print(s3[0])\n",
    "frag2d, fragStruct3d = [], []\n",
    "for s2 in s3:   \n",
    "    frag, fragStruct = calculate.Convert.fragmentConvert(s2)\n",
    "    frag2d.append(frag)\n",
    "    fragStruct3d.append(fragStruct)\n",
    "\n",
    "frag2d, fragStruct3d = calculate.Sort.dicectionSort(frag2d, fragStruct3d)\n",
    "frag2d, fragStruct3d"
   ]
  },
  {
   "cell_type": "code",
   "execution_count": 4,
   "id": "2f69f6ff",
   "metadata": {},
   "outputs": [
    {
     "name": "stdout",
     "output_type": "stream",
     "text": [
      "[[1, -1, 1], [1, -1, 1]]\n",
      "[['A', 'B', 'A'], ['A', 'B', 'A']]\n",
      "Exc_component:  ['AA', 'BB'] \n",
      " Exc_component_quantity:  [4, 1] \n",
      " Exc_component_distance:  [[4.237826588899787, 4.730054653926104, 4.729790920571543, 3.7827449062968816], [3.7650748306912845]] \n",
      "\n",
      "['BB', -0.30574945631659906, 4, 1]\n"
     ]
    },
    {
     "data": {
      "text/plain": [
       "array([['AA', '0.9173478971118906', '4', '1'],\n",
       "       ['AB', '0.5405223090732644', '4', '1.0'],\n",
       "       ['BB', '-0.30574945631659906', '4', '1.0']], dtype='<U20')"
      ]
     },
     "execution_count": 4,
     "metadata": {},
     "output_type": "execute_result"
    }
   ],
   "source": [
    "model_exc = SGmodel.exchange(frag2d, fragStruct3d, basis)\n",
    "model_exc.run(Rphi=4, Rrange=1, train_mode=True, referenceExc=referenceEnergy[1])"
   ]
  },
  {
   "cell_type": "code",
   "execution_count": 5,
   "id": "39c5f83e",
   "metadata": {},
   "outputs": [
    {
     "name": "stdout",
     "output_type": "stream",
     "text": [
      "[[1, -1], [1, -1]]\n",
      "[['A', 'A'], ['A', 'A']]\n",
      "Exc_component:  ['AA'] \n",
      " Exc_component_quantity:  [2] \n",
      " Exc_component_distance:  [[3.756857878995957, 3.7567605589929474]] \n",
      "\n",
      "0.9731093754624864\n",
      "0.9731316945375134\n",
      "1.9462410699999997\n",
      "1.94624107\n"
     ]
    }
   ],
   "source": [
    "model_exc = SGmodel.exchange(frag2d, fragStruct3d, basis)\n",
    "\n",
    "predExc = model_exc.run()\n",
    "print(predExc)\n",
    "print(referenceEnergy[1])"
   ]
  },
  {
   "cell_type": "code",
   "execution_count": null,
   "id": "1adba4d6",
   "metadata": {},
   "outputs": [],
   "source": []
  },
  {
   "cell_type": "code",
   "execution_count": null,
   "id": "f30dfcea",
   "metadata": {},
   "outputs": [],
   "source": []
  },
  {
   "cell_type": "code",
   "execution_count": null,
   "id": "01dc10e3",
   "metadata": {},
   "outputs": [],
   "source": [
    "preprocessData.dataMove()"
   ]
  },
  {
   "cell_type": "code",
   "execution_count": null,
   "id": "dfe79847",
   "metadata": {},
   "outputs": [],
   "source": []
  },
  {
   "cell_type": "code",
   "execution_count": null,
   "id": "1b1cc954",
   "metadata": {},
   "outputs": [],
   "source": []
  },
  {
   "cell_type": "code",
   "execution_count": null,
   "id": "48d3b062",
   "metadata": {},
   "outputs": [],
   "source": []
  },
  {
   "cell_type": "code",
   "execution_count": null,
   "id": "531c420c",
   "metadata": {},
   "outputs": [],
   "source": []
  },
  {
   "cell_type": "code",
   "execution_count": null,
   "id": "e3268c2e",
   "metadata": {},
   "outputs": [],
   "source": []
  }
 ],
 "metadata": {
  "kernelspec": {
   "display_name": "Python 3",
   "language": "python",
   "name": "python3"
  },
  "language_info": {
   "codemirror_mode": {
    "name": "ipython",
    "version": 3
   },
   "file_extension": ".py",
   "mimetype": "text/x-python",
   "name": "python",
   "nbconvert_exporter": "python",
   "pygments_lexer": "ipython3",
   "version": "3.8.8"
  }
 },
 "nbformat": 4,
 "nbformat_minor": 5
}
